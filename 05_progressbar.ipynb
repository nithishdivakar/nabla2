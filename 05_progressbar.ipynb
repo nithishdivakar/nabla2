{
 "cells": [
  {
   "cell_type": "code",
   "execution_count": 12,
   "metadata": {},
   "outputs": [],
   "source": [
    "# default_exp progressbar"
   ]
  },
  {
   "cell_type": "code",
   "execution_count": 17,
   "metadata": {},
   "outputs": [],
   "source": [
    "# export\n",
    "import sys\n",
    "import time"
   ]
  },
  {
   "cell_type": "code",
   "execution_count": null,
   "metadata": {},
   "outputs": [],
   "source": []
  },
  {
   "cell_type": "code",
   "execution_count": 39,
   "metadata": {},
   "outputs": [],
   "source": [
    "# export\n",
    "def _progress(count, total, status='',time_info='',blank=False):\n",
    "    bar_len = 60\n",
    "    filled_len = int(round(bar_len * count / float(total)))\n",
    "\n",
    "    percents = \"{}% {}/{}\".format(round(100.0 * count / float(total), 1),count,total)\n",
    "    bar = '#' * filled_len + '-' * (bar_len - filled_len)\n",
    "\n",
    "    \n",
    "    progress_str = '   {status} [{bar}] {percents}  {time_info}   \\r'.format(status=status,bar=bar,percents=percents,time_info=time_info)\n",
    "    if blank:\n",
    "        progress_str = \" \"*len(progress_str)+\"\\r\"\n",
    "    sys.stdout.write(progress_str)\n",
    "    sys.stdout.flush() "
   ]
  },
  {
   "cell_type": "code",
   "execution_count": 40,
   "metadata": {},
   "outputs": [],
   "source": [
    "# export\n",
    "def format_time(t):\n",
    "    t = int(t)\n",
    "    h,m,s = t//3600, (t//60)%60, t%60\n",
    "    if h!= 0: return f'{h}:{m:02d}:{s:02d}'\n",
    "    else:     return f'{m:02d}:{s:02d}'"
   ]
  },
  {
   "cell_type": "code",
   "execution_count": 41,
   "metadata": {},
   "outputs": [
    {
     "name": "stdout",
     "output_type": "stream",
     "text": [
      "t [##############################------------------------------] 50.0% 10/20  YY   \r"
     ]
    }
   ],
   "source": [
    "_progress(10,20,'t','YY')"
   ]
  },
  {
   "cell_type": "code",
   "execution_count": 47,
   "metadata": {},
   "outputs": [],
   "source": [
    "# export\n",
    "class ProgressBar():\n",
    "    def __init__(self, iterable, status=None):\n",
    "        self.iterable = iterable\n",
    "        self.len = len(iterable)\n",
    "        self.done = 0\n",
    "        self.status = status if status is not None else '>' \n",
    "\n",
    "    def __iter__(self):\n",
    "        start_t = time.time()\n",
    "        \n",
    "        for i, itm in enumerate(self.iterable):\n",
    "            yield itm\n",
    "            elapsed_t = time.time() - start_t\n",
    "            time_info = \"[{}/{}]\".format(format_time(elapsed_t),format_time(elapsed_t*self.len/(i+1)))\n",
    "            _progress(i, self.len, self.status, time_info)\n",
    "        _progress(i, self.len, self.status,time_info, blank=True)\n",
    "\n",
    "    def set_status(self, new_status):\n",
    "        self.status = new_status\n",
    "        return"
   ]
  },
  {
   "cell_type": "code",
   "execution_count": 48,
   "metadata": {},
   "outputs": [
    {
     "name": "stdout",
     "output_type": "stream",
     "text": [
      "                                                                                               \r"
     ]
    }
   ],
   "source": [
    "for i in ProgressBar(range(15)):\n",
    "    time.sleep(0.5)\n",
    "    if i>5:time.sleep(0.5)"
   ]
  },
  {
   "cell_type": "code",
   "execution_count": 49,
   "metadata": {},
   "outputs": [
    {
     "name": "stdout",
     "output_type": "stream",
     "text": [
      "Converted 00_core.ipynb.\n",
      "Converted 02_learner.ipynb.\n",
      "Converted 05_progressbar.ipynb.\n",
      "Converted 99_tests.ipynb.\n",
      "Converted index.ipynb.\n"
     ]
    }
   ],
   "source": [
    "from nbdev.export import *\n",
    "notebook2script()"
   ]
  },
  {
   "cell_type": "code",
   "execution_count": null,
   "metadata": {},
   "outputs": [],
   "source": []
  }
 ],
 "metadata": {
  "kernelspec": {
   "display_name": "Python 3",
   "language": "python",
   "name": "python3"
  },
  "language_info": {
   "codemirror_mode": {
    "name": "ipython",
    "version": 3
   },
   "file_extension": ".py",
   "mimetype": "text/x-python",
   "name": "python",
   "nbconvert_exporter": "python",
   "pygments_lexer": "ipython3",
   "version": "3.6.8"
  }
 },
 "nbformat": 4,
 "nbformat_minor": 4
}
