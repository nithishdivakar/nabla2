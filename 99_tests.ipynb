{
 "cells": [
  {
   "cell_type": "code",
   "execution_count": 1,
   "metadata": {},
   "outputs": [],
   "source": [
    "# default_exp test"
   ]
  },
  {
   "cell_type": "code",
   "execution_count": 2,
   "metadata": {},
   "outputs": [],
   "source": [
    "# export \n",
    "import numpy as np\n",
    "import torch\n",
    "import torchvision\n",
    "import matplotlib.pyplot as plt\n",
    "from time import time\n",
    "from torchvision import datasets, transforms\n",
    "from torch import nn, optim\n"
   ]
  },
  {
   "cell_type": "code",
   "execution_count": 3,
   "metadata": {},
   "outputs": [],
   "source": [
    "# export\n",
    "def get_test_resources(force_cpu=False):\n",
    "    if force_cpu:\n",
    "        device = torch.device(\"cpu\")\n",
    "    else:\n",
    "        device = torch.device(\"cuda:0\" if torch.cuda.is_available() else \"cpu\")\n",
    "    transform = transforms.Compose([transforms.ToTensor(),\n",
    "                                  transforms.Normalize((0.5,), (0.5,)),\n",
    "                                  ])\n",
    "\n",
    "    trainset = datasets.MNIST('resources/mnist/train', download=True, train=True, transform=transform)\n",
    "    valset = datasets.MNIST('resources/mnist/test', download=True, train=False, transform=transform)\n",
    "    trainloader = torch.utils.data.DataLoader(trainset, batch_size=64, shuffle=True)\n",
    "    valloader = torch.utils.data.DataLoader(valset, batch_size=64, shuffle=True)\n",
    "\n",
    "    dls = {\n",
    "        'train':trainloader,\n",
    "        'test':valloader,\n",
    "        'valid':valloader,\n",
    "    }\n",
    "\n",
    "    input_size = 784\n",
    "    hidden_sizes = [128, 64]\n",
    "    output_size = 10\n",
    "    \n",
    "    class Loss(nn.Module):\n",
    "        def __init__(self):\n",
    "            super().__init__()\n",
    "            self.loss_fn = nn.CrossEntropyLoss()\n",
    "        def forward(self,x,y):\n",
    "            loss = self.loss_fn(x,y)\n",
    "            return loss,loss\n",
    "\n",
    "    model = nn.Sequential(nn.Linear(input_size, hidden_sizes[0]),\n",
    "                          nn.ReLU(),\n",
    "                          nn.Linear(hidden_sizes[0], hidden_sizes[1]),\n",
    "                          nn.ReLU(),\n",
    "                          nn.Linear(hidden_sizes[1], output_size)\n",
    "                         )\n",
    "    model = model.to(device)\n",
    "    optimizer = optim.SGD(model.parameters(), lr=0.003, momentum=0.9)\n",
    "    loss_func = Loss()\n",
    "    return model,dls,loss_func,optimizer,device\n"
   ]
  },
  {
   "cell_type": "code",
   "execution_count": null,
   "metadata": {},
   "outputs": [],
   "source": []
  },
  {
   "cell_type": "code",
   "execution_count": null,
   "metadata": {},
   "outputs": [],
   "source": []
  },
  {
   "cell_type": "code",
   "execution_count": 1,
   "metadata": {},
   "outputs": [
    {
     "name": "stdout",
     "output_type": "stream",
     "text": [
      "Converted 00_core.ipynb.\n",
      "Converted 02_learner.ipynb.\n",
      "Converted 05_progressbar.ipynb.\n",
      "Converted 99_tests.ipynb.\n",
      "Converted index.ipynb.\n"
     ]
    }
   ],
   "source": [
    "from nbdev.export import *\n",
    "notebook2script()"
   ]
  },
  {
   "cell_type": "markdown",
   "metadata": {},
   "source": [
    "---"
   ]
  },
  {
   "cell_type": "code",
   "execution_count": 5,
   "metadata": {},
   "outputs": [],
   "source": [
    "%load_ext autoreload\n",
    "%autoreload 2"
   ]
  },
  {
   "cell_type": "code",
   "execution_count": 6,
   "metadata": {},
   "outputs": [],
   "source": [
    "from nabla2.learner import Learner\n",
    "from nabla2.test import get_test_resources"
   ]
  },
  {
   "cell_type": "code",
   "execution_count": 7,
   "metadata": {},
   "outputs": [
    {
     "name": "stdout",
     "output_type": "stream",
     "text": [
      ">>>>>>>>>>>>>>>>>>>>>>>>>>>>>>>>>>>>>>>>\n",
      "24/04/2020 12:01:08\n"
     ]
    }
   ],
   "source": [
    "model,dls,loss_func,optimizer,device = get_test_resources(True)\n",
    "\n",
    "def foo(p,g):\n",
    "    return -1.0\n",
    "\n",
    "\n",
    "learner = Learner(model,dls,loss_func,optimizer,device=device,eval_sets={'valid':foo,'train':foo,'test':[foo],'twst1':foo})\n",
    "\n",
    "def on_batch_begin(data_batch,phase='train'):\n",
    "    xb,yb = data_batch\n",
    "    xb = xb.view(-1, 784)\n",
    "    return xb,yb\n",
    "learner.on_batch_begin=on_batch_begin\n"
   ]
  },
  {
   "cell_type": "code",
   "execution_count": 8,
   "metadata": {},
   "outputs": [
    {
     "name": "stdout",
     "output_type": "stream",
     "text": [
      "   0.29 [########----------------------------------------------------] 13.4% 21/157  [00:00/00:01]     \r"
     ]
    },
    {
     "name": "stderr",
     "output_type": "stream",
     "text": [
      "/home/deva/WORK/nabla2/nabla2/learner.py:208: RuntimeWarning: Mean of empty slice.\n",
      "  average_valid_loss = _redux(valid_losses).mean(axis=0)\n",
      "/home/deva/.virtualenv/image_comp/lib/python3.6/site-packages/numpy/core/_methods.py:161: RuntimeWarning: invalid value encountered in double_scalars\n",
      "  ret = ret.dtype.type(ret / rcount)\n"
     ]
    },
    {
     "name": "stdout",
     "output_type": "stream",
     "text": [
      "          error  foo                        loss                                                       \n",
      "EPOCH     twst1 test train valid            test             train           valid\n",
      "1      na in ds -1.0  -1.0  -1.0  [0.304, 0.304]  [[0.643, 0.643]]  [0.304, 0.304]\n",
      "2      na in ds -1.0  -1.0  -1.0  [0.242, 0.242]  [[0.289, 0.289]]  [0.241, 0.241]                     \n"
     ]
    }
   ],
   "source": [
    "learner.fit(2)"
   ]
  },
  {
   "cell_type": "code",
   "execution_count": 9,
   "metadata": {},
   "outputs": [
    {
     "name": "stdout",
     "output_type": "stream",
     "text": [
      "                                                                                                       \r"
     ]
    },
    {
     "data": {
      "text/plain": [
       "defaultdict(dict,\n",
       "            {'valid': {'foo': -1.0, 'loss': array([0.242, 0.242])},\n",
       "             'train': {'foo': -1.0, 'loss': array([0.245, 0.245])},\n",
       "             'test': {'foo': -1.0, 'loss': array([0.24, 0.24])},\n",
       "             'twst1': {'error': 'na in ds'}})"
      ]
     },
     "execution_count": 9,
     "metadata": {},
     "output_type": "execute_result"
    }
   ],
   "source": [
    "learner.eval_metrics()"
   ]
  },
  {
   "cell_type": "code",
   "execution_count": null,
   "metadata": {},
   "outputs": [],
   "source": []
  },
  {
   "cell_type": "code",
   "execution_count": null,
   "metadata": {},
   "outputs": [],
   "source": []
  },
  {
   "cell_type": "code",
   "execution_count": null,
   "metadata": {},
   "outputs": [],
   "source": []
  },
  {
   "cell_type": "code",
   "execution_count": null,
   "metadata": {},
   "outputs": [],
   "source": []
  }
 ],
 "metadata": {
  "kernelspec": {
   "display_name": "Python 3",
   "language": "python",
   "name": "python3"
  },
  "language_info": {
   "codemirror_mode": {
    "name": "ipython",
    "version": 3
   },
   "file_extension": ".py",
   "mimetype": "text/x-python",
   "name": "python",
   "nbconvert_exporter": "python",
   "pygments_lexer": "ipython3",
   "version": "3.6.8"
  }
 },
 "nbformat": 4,
 "nbformat_minor": 4
}
