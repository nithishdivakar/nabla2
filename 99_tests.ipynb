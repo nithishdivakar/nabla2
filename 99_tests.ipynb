{
 "cells": [
  {
   "cell_type": "code",
   "execution_count": 1,
   "metadata": {},
   "outputs": [],
   "source": [
    "# default_exp test"
   ]
  },
  {
   "cell_type": "code",
   "execution_count": null,
   "metadata": {},
   "outputs": [],
   "source": []
  },
  {
   "cell_type": "code",
   "execution_count": 21,
   "metadata": {},
   "outputs": [],
   "source": [
    "# export \n",
    "import numpy as np\n",
    "import torch\n",
    "import torchvision\n",
    "from time import time\n",
    "from torchvision import datasets, transforms\n",
    "from torch import nn, optim\n"
   ]
  },
  {
   "cell_type": "code",
   "execution_count": 22,
   "metadata": {},
   "outputs": [],
   "source": [
    "# export\n",
    "def get_test_resources(force_cpu=False):\n",
    "    if force_cpu:\n",
    "        device = torch.device(\"cpu\")\n",
    "    else:\n",
    "        device = torch.device(\"cuda:0\" if torch.cuda.is_available() else \"cpu\")\n",
    "    transform = transforms.Compose([transforms.ToTensor(),\n",
    "                                  transforms.Normalize((0.5,), (0.5,)),\n",
    "                                  ])\n",
    "\n",
    "    trainset = datasets.MNIST('resources/mnist/train', download=True, train=True, transform=transform)\n",
    "    valset = datasets.MNIST('resources/mnist/test', download=True, train=False, transform=transform)\n",
    "    trainloader = torch.utils.data.DataLoader(trainset, batch_size=64, shuffle=True)\n",
    "    valloader = torch.utils.data.DataLoader(valset, batch_size=64, shuffle=True)\n",
    "\n",
    "    dls = {\n",
    "        'train':trainloader,\n",
    "        'test':valloader,\n",
    "        'valid':valloader,\n",
    "    }\n",
    "\n",
    "    input_size = 784\n",
    "    hidden_sizes = [128, 64]\n",
    "    output_size = 10\n",
    "    \n",
    "    class Loss(nn.Module):\n",
    "        def __init__(self):\n",
    "            super().__init__()\n",
    "            self.loss_fn = nn.CrossEntropyLoss()\n",
    "        def forward(self,x,y):\n",
    "            loss = self.loss_fn(x,y)\n",
    "            return loss,loss\n",
    "\n",
    "    model = nn.Sequential(nn.Linear(input_size, hidden_sizes[0]),\n",
    "                          nn.ReLU(),\n",
    "                          nn.Linear(hidden_sizes[0], hidden_sizes[1]),\n",
    "                          nn.ReLU(),\n",
    "                          nn.Linear(hidden_sizes[1], output_size)\n",
    "                         )\n",
    "    model = model.to(device)\n",
    "    optimizer = optim.SGD(model.parameters(), lr=0.003, momentum=0.9)\n",
    "    loss_func = Loss()\n",
    "    return model,dls,loss_func,optimizer,device\n"
   ]
  },
  {
   "cell_type": "code",
   "execution_count": null,
   "metadata": {},
   "outputs": [],
   "source": []
  },
  {
   "cell_type": "code",
   "execution_count": null,
   "metadata": {},
   "outputs": [],
   "source": []
  },
  {
   "cell_type": "code",
   "execution_count": 107,
   "metadata": {},
   "outputs": [
    {
     "name": "stdout",
     "output_type": "stream",
     "text": [
      "Converted 00_core.ipynb.\n",
      "Converted 01nabla2.ipynb.\n",
      "Converted 02_learner.ipynb.\n",
      "Converted 05_progressbar.ipynb.\n",
      "Converted 99_tests.ipynb.\n",
      "Converted index.ipynb.\n"
     ]
    }
   ],
   "source": [
    "from nbdev.export import *\n",
    "notebook2script()"
   ]
  },
  {
   "cell_type": "markdown",
   "metadata": {},
   "source": [
    "---"
   ]
  },
  {
   "cell_type": "code",
   "execution_count": 108,
   "metadata": {},
   "outputs": [
    {
     "name": "stdout",
     "output_type": "stream",
     "text": [
      "The autoreload extension is already loaded. To reload it, use:\n",
      "  %reload_ext autoreload\n"
     ]
    }
   ],
   "source": [
    "%load_ext autoreload\n",
    "%autoreload 2"
   ]
  },
  {
   "cell_type": "code",
   "execution_count": 109,
   "metadata": {},
   "outputs": [],
   "source": [
    "\n",
    "from nabla2.nabla2 import Learner,accuracy\n",
    "from nabla2.test import get_test_resources\n"
   ]
  },
  {
   "cell_type": "code",
   "execution_count": 110,
   "metadata": {},
   "outputs": [
    {
     "name": "stdout",
     "output_type": "stream",
     "text": [
      ">>>>>>>>>>>>>>>>>>>>>>>>>>>>>>>>>>>>>>>>\n",
      "25/05/2020 11:21:52\n"
     ]
    }
   ],
   "source": [
    "model,dls,loss_func,optimizer,device = get_test_resources(True)\n",
    "\n",
    "def foo(p,g):\n",
    "    return -1.0\n",
    "\n",
    "\n",
    "learner = Learner(model,dls,loss_func,optimizer,device=device,eval_sets={'valid':accuracy,'train':accuracy,'test':[accuracy],'twst1':accuracy})\n",
    "\n",
    "def on_batch_begin(data_batch,phase='train'):\n",
    "    xb,yb = data_batch\n",
    "    xb = xb.view(-1, 784)\n",
    "    return xb,yb\n",
    "learner.on_batch_begin=on_batch_begin\n"
   ]
  },
  {
   "cell_type": "code",
   "execution_count": 111,
   "metadata": {},
   "outputs": [
    {
     "name": "stdout",
     "output_type": "stream",
     "text": [
      "      accuracy                   error            loss                                                 \n",
      "EPOCH     test  train  valid     twst1            test             train           valid\n",
      "1        0.906  0.905  0.906  na in ds  [0.323, 0.323]  [[0.675, 0.675]]  [0.323, 0.323]\n",
      "2        0.926  0.926  0.926  na in ds  [0.248, 0.248]  [[0.288, 0.288]]  [0.249, 0.249]               \n"
     ]
    }
   ],
   "source": [
    "learner.fit(2)"
   ]
  },
  {
   "cell_type": "code",
   "execution_count": 112,
   "metadata": {},
   "outputs": [
    {
     "name": "stdout",
     "output_type": "stream",
     "text": [
      "                                                                                                       \r"
     ]
    },
    {
     "data": {
      "text/plain": [
       "defaultdict(dict,\n",
       "            {'valid': {'accuracy': array('0.926', dtype='<U5'),\n",
       "              'loss': array(['0.251', '0.251'], dtype='<U5')},\n",
       "             'train': {'accuracy': array('0.926', dtype='<U5'),\n",
       "              'loss': array(['0.252', '0.252'], dtype='<U5')},\n",
       "             'test': {'accuracy': array('0.926', dtype='<U5'),\n",
       "              'loss': array(['0.247', '0.247'], dtype='<U5')},\n",
       "             'twst1': {'error': 'na in ds'}})"
      ]
     },
     "execution_count": 112,
     "metadata": {},
     "output_type": "execute_result"
    }
   ],
   "source": [
    "learner.eval_metrics()"
   ]
  },
  {
   "cell_type": "code",
   "execution_count": 114,
   "metadata": {},
   "outputs": [],
   "source": [
    "# learner.recorder.get_loss_df()"
   ]
  },
  {
   "cell_type": "code",
   "execution_count": 115,
   "metadata": {},
   "outputs": [],
   "source": [
    "LLlut = learner.recorder.lut"
   ]
  },
  {
   "cell_type": "code",
   "execution_count": 116,
   "metadata": {},
   "outputs": [],
   "source": []
  },
  {
   "cell_type": "code",
   "execution_count": 117,
   "metadata": {},
   "outputs": [],
   "source": [
    "R = _recorder()\n",
    "R.lut = LLlut.copy()"
   ]
  },
  {
   "cell_type": "code",
   "execution_count": 120,
   "metadata": {},
   "outputs": [],
   "source": [
    "t,v = R.get_loss_df()"
   ]
  },
  {
   "cell_type": "code",
   "execution_count": null,
   "metadata": {},
   "outputs": [],
   "source": []
  },
  {
   "cell_type": "code",
   "execution_count": 121,
   "metadata": {},
   "outputs": [
    {
     "data": {
      "text/html": [
       "<div>\n",
       "<style scoped>\n",
       "    .dataframe tbody tr th:only-of-type {\n",
       "        vertical-align: middle;\n",
       "    }\n",
       "\n",
       "    .dataframe tbody tr th {\n",
       "        vertical-align: top;\n",
       "    }\n",
       "\n",
       "    .dataframe thead th {\n",
       "        text-align: right;\n",
       "    }\n",
       "</style>\n",
       "<table border=\"1\" class=\"dataframe\">\n",
       "  <thead>\n",
       "    <tr style=\"text-align: right;\">\n",
       "      <th></th>\n",
       "      <th>epoch_num</th>\n",
       "      <th>iter_num</th>\n",
       "      <th>lr</th>\n",
       "      <th>loss_0</th>\n",
       "      <th>loss_1</th>\n",
       "    </tr>\n",
       "  </thead>\n",
       "  <tbody>\n",
       "    <tr>\n",
       "      <th>0</th>\n",
       "      <td>0</td>\n",
       "      <td>0</td>\n",
       "      <td>0.003</td>\n",
       "      <td>2.301287</td>\n",
       "      <td>2.301287</td>\n",
       "    </tr>\n",
       "    <tr>\n",
       "      <th>1</th>\n",
       "      <td>0</td>\n",
       "      <td>1</td>\n",
       "      <td>0.003</td>\n",
       "      <td>2.300428</td>\n",
       "      <td>2.300428</td>\n",
       "    </tr>\n",
       "    <tr>\n",
       "      <th>2</th>\n",
       "      <td>0</td>\n",
       "      <td>2</td>\n",
       "      <td>0.003</td>\n",
       "      <td>2.278993</td>\n",
       "      <td>2.278993</td>\n",
       "    </tr>\n",
       "    <tr>\n",
       "      <th>3</th>\n",
       "      <td>0</td>\n",
       "      <td>3</td>\n",
       "      <td>0.003</td>\n",
       "      <td>2.290361</td>\n",
       "      <td>2.290361</td>\n",
       "    </tr>\n",
       "    <tr>\n",
       "      <th>4</th>\n",
       "      <td>0</td>\n",
       "      <td>4</td>\n",
       "      <td>0.003</td>\n",
       "      <td>2.298497</td>\n",
       "      <td>2.298497</td>\n",
       "    </tr>\n",
       "    <tr>\n",
       "      <th>...</th>\n",
       "      <td>...</td>\n",
       "      <td>...</td>\n",
       "      <td>...</td>\n",
       "      <td>...</td>\n",
       "      <td>...</td>\n",
       "    </tr>\n",
       "    <tr>\n",
       "      <th>1873</th>\n",
       "      <td>1</td>\n",
       "      <td>1872</td>\n",
       "      <td>0.003</td>\n",
       "      <td>0.257591</td>\n",
       "      <td>0.257591</td>\n",
       "    </tr>\n",
       "    <tr>\n",
       "      <th>1874</th>\n",
       "      <td>1</td>\n",
       "      <td>1873</td>\n",
       "      <td>0.003</td>\n",
       "      <td>0.241604</td>\n",
       "      <td>0.241604</td>\n",
       "    </tr>\n",
       "    <tr>\n",
       "      <th>1875</th>\n",
       "      <td>1</td>\n",
       "      <td>1874</td>\n",
       "      <td>0.003</td>\n",
       "      <td>0.380979</td>\n",
       "      <td>0.380979</td>\n",
       "    </tr>\n",
       "    <tr>\n",
       "      <th>1876</th>\n",
       "      <td>1</td>\n",
       "      <td>1875</td>\n",
       "      <td>0.003</td>\n",
       "      <td>0.175926</td>\n",
       "      <td>0.175926</td>\n",
       "    </tr>\n",
       "    <tr>\n",
       "      <th>1877</th>\n",
       "      <td>1</td>\n",
       "      <td>-1</td>\n",
       "      <td>NaN</td>\n",
       "      <td>0.287771</td>\n",
       "      <td>0.287771</td>\n",
       "    </tr>\n",
       "  </tbody>\n",
       "</table>\n",
       "<p>1878 rows × 5 columns</p>\n",
       "</div>"
      ],
      "text/plain": [
       "      epoch_num  iter_num     lr    loss_0    loss_1\n",
       "0             0         0  0.003  2.301287  2.301287\n",
       "1             0         1  0.003  2.300428  2.300428\n",
       "2             0         2  0.003  2.278993  2.278993\n",
       "3             0         3  0.003  2.290361  2.290361\n",
       "4             0         4  0.003  2.298497  2.298497\n",
       "...         ...       ...    ...       ...       ...\n",
       "1873          1      1872  0.003  0.257591  0.257591\n",
       "1874          1      1873  0.003  0.241604  0.241604\n",
       "1875          1      1874  0.003  0.380979  0.380979\n",
       "1876          1      1875  0.003  0.175926  0.175926\n",
       "1877          1        -1    NaN  0.287771  0.287771\n",
       "\n",
       "[1878 rows x 5 columns]"
      ]
     },
     "execution_count": 121,
     "metadata": {},
     "output_type": "execute_result"
    }
   ],
   "source": [
    "t"
   ]
  },
  {
   "cell_type": "code",
   "execution_count": 124,
   "metadata": {},
   "outputs": [
    {
     "data": {
      "text/html": [
       "<div>\n",
       "<style scoped>\n",
       "    .dataframe tbody tr th:only-of-type {\n",
       "        vertical-align: middle;\n",
       "    }\n",
       "\n",
       "    .dataframe tbody tr th {\n",
       "        vertical-align: top;\n",
       "    }\n",
       "\n",
       "    .dataframe thead th {\n",
       "        text-align: right;\n",
       "    }\n",
       "</style>\n",
       "<table border=\"1\" class=\"dataframe\">\n",
       "  <thead>\n",
       "    <tr style=\"text-align: right;\">\n",
       "      <th></th>\n",
       "      <th>epoch_num</th>\n",
       "      <th>iter_num</th>\n",
       "      <th>lr</th>\n",
       "    </tr>\n",
       "  </thead>\n",
       "  <tbody>\n",
       "  </tbody>\n",
       "</table>\n",
       "</div>"
      ],
      "text/plain": [
       "Empty DataFrame\n",
       "Columns: [epoch_num, iter_num, lr]\n",
       "Index: []"
      ]
     },
     "execution_count": 124,
     "metadata": {},
     "output_type": "execute_result"
    }
   ],
   "source": [
    "v"
   ]
  },
  {
   "cell_type": "code",
   "execution_count": null,
   "metadata": {},
   "outputs": [],
   "source": []
  }
 ],
 "metadata": {
  "kernelspec": {
   "display_name": "Python 3",
   "language": "python",
   "name": "python3"
  },
  "language_info": {
   "codemirror_mode": {
    "name": "ipython",
    "version": 3
   },
   "file_extension": ".py",
   "mimetype": "text/x-python",
   "name": "python",
   "nbconvert_exporter": "python",
   "pygments_lexer": "ipython3",
   "version": "3.7.3"
  }
 },
 "nbformat": 4,
 "nbformat_minor": 4
}
